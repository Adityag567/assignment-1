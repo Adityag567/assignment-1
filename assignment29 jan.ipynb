{
 "cells": [
  {
   "cell_type": "code",
   "execution_count": 1,
   "id": "9e7cd135-e5b2-4c1a-9fef-267e1cbd1c88",
   "metadata": {},
   "outputs": [
    {
     "name": "stdout",
     "output_type": "stream",
     "text": [
      "Object `language` not found.\n"
     ]
    }
   ],
   "source": [
    "Who developed python programming language?\n",
    "\n",
    "Ans- Python was created by Guido van Rossum, and \n",
    "first released on February 20, 1991."
   ]
  },
  {
   "cell_type": "code",
   "execution_count": 3,
   "id": "67978323-c67e-4a8d-b105-fa0b0cb066ac",
   "metadata": {},
   "outputs": [
    {
     "ename": "SyntaxError",
     "evalue": "invalid syntax (580230862.py, line 1)",
     "output_type": "error",
     "traceback": [
      "\u001b[0;36m  Cell \u001b[0;32mIn [3], line 1\u001b[0;36m\u001b[0m\n\u001b[0;31m    Which type of programming does python support ?\u001b[0m\n\u001b[0m          ^\u001b[0m\n\u001b[0;31mSyntaxError\u001b[0m\u001b[0;31m:\u001b[0m invalid syntax\n"
     ]
    }
   ],
   "source": [
    "Which type of programming does python support ?\n",
    "\n",
    "Ans- Python is a multi-paradigm programming language.\n",
    "Object-oriented programming and structured programming are fully supported, and many of their features support functional programming\n",
    "and aspect-oriented programming\n",
    "(including metaprogramming and metaobjects)."
   ]
  },
  {
   "cell_type": "code",
   "execution_count": 1,
   "id": "dc7cec2e-08a2-4fbf-9f92-fa1a412b1f96",
   "metadata": {},
   "outputs": [
    {
     "ename": "SyntaxError",
     "evalue": "invalid syntax (1193597998.py, line 3)",
     "output_type": "error",
     "traceback": [
      "\u001b[0;36m  Cell \u001b[0;32mIn [1], line 3\u001b[0;36m\u001b[0m\n\u001b[0;31m    ans-Yes, Python is a case-sensitive language, i.e.,\u001b[0m\n\u001b[0m                         ^\u001b[0m\n\u001b[0;31mSyntaxError\u001b[0m\u001b[0;31m:\u001b[0m invalid syntax\n"
     ]
    }
   ],
   "source": [
    "Is python  case sensitive when dealing with identifiers?\n",
    "\n",
    "ans-Yes, Python is a case-sensitive language, i.e., \n",
    "it treats uppercase and lowercase characters differently. \n",
    "This applies to identifiers too. You must avoid using the \n",
    "same name with different cases while naming identifiers."
   ]
  },
  {
   "cell_type": "code",
   "execution_count": 2,
   "id": "90dbac20-f70c-46a8-a1c6-660fe95fddf3",
   "metadata": {},
   "outputs": [
    {
     "ename": "SyntaxError",
     "evalue": "invalid syntax (1620094779.py, line 2)",
     "output_type": "error",
     "traceback": [
      "\u001b[0;36m  Cell \u001b[0;32mIn [2], line 2\u001b[0;36m\u001b[0m\n\u001b[0;31m    ans-The extensions for Python files are - . py, . pyi, .\u001b[0m\n\u001b[0m            ^\u001b[0m\n\u001b[0;31mSyntaxError\u001b[0m\u001b[0;31m:\u001b[0m invalid syntax\n"
     ]
    }
   ],
   "source": [
    "What is the correct extension of the python file?\n",
    "ans-The extensions for Python files are - . py, . pyi, ."
   ]
  },
  {
   "cell_type": "code",
   "execution_count": null,
   "id": "14d87b11-d42c-4cd7-ae3b-712d6ccd4ebf",
   "metadata": {},
   "outputs": [],
   "source": [
    "Is Python code compiled or Interpreted\n",
    "\n",
    "ans-Python is an interpreted language, \n",
    "which means the source code of a Python program is \n",
    "converted into bytecode that is then executed by the Python virtual machine. Python is different from major compiled languages,\n",
    "such as C and C + +, "
   ]
  },
  {
   "cell_type": "code",
   "execution_count": null,
   "id": "f1927860-30df-4158-bbc6-39af4c63ef9b",
   "metadata": {},
   "outputs": [],
   "source": [
    "Name a few blpcks of code used to define  in python language?\n",
    "\n",
    "ans-The following are blocks: a module, a function body\n",
    "and a class definition. \n",
    "Each command typed interactively is a block. \n",
    "A script file (a file given as standard input to the interpreter  or specified as a \n",
    "               command line argument to the interpreter) is a code block\n",
    "                                                                                                                    \n",
    "                                                                     .\n"
   ]
  },
  {
   "cell_type": "code",
   "execution_count": null,
   "id": "7a19bd2b-6569-4811-a59d-396087ab6d03",
   "metadata": {},
   "outputs": [],
   "source": [
    "State a character used to give single line comments in python\n",
    "ans-We can write a single-line comment by adding a \n",
    "single # character before any statement or line of code."
   ]
  },
  {
   "cell_type": "code",
   "execution_count": null,
   "id": "0f91b7af-da5c-49e4-8bc5-52403a1602c1",
   "metadata": {},
   "outputs": [],
   "source": [
    "Mention functions which can help us to find the version of  python  that we are currently working on?\n",
    "ans- The function sys. version can help us to find the version of \n",
    "python that we are currently working on. It also contains\n",
    "information on the build number and compiler used."
   ]
  },
  {
   "cell_type": "code",
   "execution_count": null,
   "id": "d7fc24fb-0dd7-4810-8bf0-bb7f38bc3c59",
   "metadata": {},
   "outputs": [],
   "source": [
    "Python supports  the creation of anonymous functions at runtime, using a construct called\n",
    "ans-Python supports to make anonymous functions which are not bound to a name(@ runtime). It uses a construct called \"lambda\" ."
   ]
  },
  {
   "cell_type": "code",
   "execution_count": null,
   "id": "f4eea9d0-fbdf-4ce9-9fde-0285df844dd7",
   "metadata": {},
   "outputs": [],
   "source": [
    "what does pip stand for python\n",
    "ans-PIP is a recursive acronym for “Preferred Installer Program” \n",
    "or PIP Installs Packages. It is a command-line utility that installs, \n",
    "reinstalls, or uninstalls PyPI packages with one simple command: pip. \n",
    "Pip is a package manager for Python that allows you to install additional libraries\n",
    "and packages that are not part of the standard Python library such as \n",
    "the ones found in the Python Package Index."
   ]
  },
  {
   "cell_type": "code",
   "execution_count": null,
   "id": "a784fdce-60cb-4f52-9da8-9efaab29ba38",
   "metadata": {},
   "outputs": [],
   "source": [
    "Mention a few built in funcction in python?\n",
    "ans-pre define functions are print( ) function\n",
    "type( ) function\n",
    "input( ) function\n",
    "abs( ) function\n",
    "pow( ) function\n",
    "dir( ) function\n",
    "sorted( ) function\n",
    "max( ) function\n",
    "round( ) function etc."
   ]
  },
  {
   "cell_type": "code",
   "execution_count": null,
   "id": "89377c91-b191-4818-b6c2-cd19e29ce763",
   "metadata": {},
   "outputs": [],
   "source": [
    "What is the maximum possible length of an identifier in python\n",
    "ans-An identifier can have a maximum length of 79 characters in Python."
   ]
  },
  {
   "cell_type": "code",
   "execution_count": null,
   "id": "cf892fc3-9e6b-4964-8c0b-8bc79c2e140c",
   "metadata": {},
   "outputs": [],
   "source": [
    "what are the benefits of using python\n",
    "ans-ython programming is powering the global job market because the benefits \n",
    "of Python are clear. Python is one of the top three programming languages in the \n",
    "world, and is poised to become the most popular, according to ZDNet. In fact, according \n",
    "to the PYPL Index, Python is the most popular programming language world-wide, so if you want to work in a different country, you have a good chance of landing a job "
   ]
  },
  {
   "cell_type": "code",
   "execution_count": null,
   "id": "2ec84019-0285-458f-abf2-b38c697492c3",
   "metadata": {},
   "outputs": [],
   "source": [
    "how is memory managed in python\n",
    "ans-Memory allocation is important to any software developer as writing efficient code means writing a memory-efficient code. Memory allocation can be defined as allocating a block of space in the computer memory to a program. In Python memory allocation and deallocation method is automatic as the Python developers created a garbage collector for Python so that the user does not have to do manual garbage collection."
   ]
  },
  {
   "cell_type": "code",
   "execution_count": null,
   "id": "12194001-e89c-47d7-a4ae-4a0422e77ef8",
   "metadata": {},
   "outputs": [],
   "source": [
    "how to install Python in windows  and setpath variables\n",
    "ans-Install python from this link https://www.python.org/downloads/\n",
    "After this, install it on your PC. Look for the location where PYTHON has been installed on your PC using tge following command on your command prompt: cmd python.\n",
    "Then go to advanced system settings and add new variable and name it as PYTHON_NAME and paste the copied path.\n",
    "Then look for the path variable, select it's value and select edit\n",
    "Add a semicolon towards the end of the value if it's not present and then type %PYTHON_HOME%"
   ]
  },
  {
   "cell_type": "code",
   "execution_count": null,
   "id": "e94038fc-3fb2-46da-9c02-6ca929b76b20",
   "metadata": {},
   "outputs": [],
   "source": [
    "is indentation required in python\n",
    "Python indentation is an important concept to know even before you get started with coding in Python. This is because if you are not aware of how to indent a Python code, then you will end up seeing indentation errors and you code will not get compiled."
   ]
  },
  {
   "cell_type": "code",
   "execution_count": null,
   "id": "c1e03600-4c8c-430d-b5a2-ee94dc4c87da",
   "metadata": {},
   "outputs": [],
   "source": []
  },
  {
   "cell_type": "code",
   "execution_count": null,
   "id": "06189919-4fa0-4dfe-90b4-1f7ca747ea86",
   "metadata": {},
   "outputs": [],
   "source": []
  },
  {
   "cell_type": "code",
   "execution_count": null,
   "id": "9e1aef22-f2a1-4440-a01f-fa7bf850e42b",
   "metadata": {},
   "outputs": [],
   "source": []
  }
 ],
 "metadata": {
  "kernelspec": {
   "display_name": "Python 3 (ipykernel)",
   "language": "python",
   "name": "python3"
  },
  "language_info": {
   "codemirror_mode": {
    "name": "ipython",
    "version": 3
   },
   "file_extension": ".py",
   "mimetype": "text/x-python",
   "name": "python",
   "nbconvert_exporter": "python",
   "pygments_lexer": "ipython3",
   "version": "3.10.6"
  }
 },
 "nbformat": 4,
 "nbformat_minor": 5
}
